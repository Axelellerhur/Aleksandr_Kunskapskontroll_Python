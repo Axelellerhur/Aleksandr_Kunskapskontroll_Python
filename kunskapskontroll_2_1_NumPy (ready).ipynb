{
 "cells": [
  {
   "cell_type": "markdown",
   "id": "dacf74e6",
   "metadata": {},
   "source": [
    "# NumPy"
   ]
  },
  {
   "cell_type": "markdown",
   "id": "01b2bf34",
   "metadata": {},
   "source": [
    "Read the links: https://numpy.org/doc/stable/user/quickstart.html  and https://numpy.org/doc/stable/user/basics.broadcasting.html  before solving the exercises. "
   ]
  },
  {
   "cell_type": "code",
   "execution_count": 2,
   "id": "1f79e4a6",
   "metadata": {},
   "outputs": [],
   "source": [
    "import numpy as np"
   ]
  },
  {
   "cell_type": "markdown",
   "id": "7dae6889",
   "metadata": {},
   "source": [
    "### Print out the dimension (number of axes), shape, size and the datatype of the matrix A."
   ]
  },
  {
   "cell_type": "code",
   "execution_count": 3,
   "id": "7b3678cd",
   "metadata": {},
   "outputs": [],
   "source": [
    "A = np.arange(1, 16).reshape(3,5)"
   ]
  },
  {
   "cell_type": "code",
   "execution_count": 8,
   "id": "31d39235",
   "metadata": {},
   "outputs": [
    {
     "name": "stdout",
     "output_type": "stream",
     "text": [
      "2\n",
      "(3, 5)\n",
      "15\n",
      "int64\n"
     ]
    }
   ],
   "source": [
    "print(A.ndim)\n",
    "print(A.shape)\n",
    "print(A.size)\n",
    "print(A.dtype.name)"
   ]
  },
  {
   "cell_type": "markdown",
   "id": "e56d2a96",
   "metadata": {},
   "source": [
    "### Do the following computations on the matrices B and C: \n",
    "* Elementwise subtraction. \n",
    "* Elementwise multiplication. \n",
    "* Matrix multiplication (by default you should use the @ operator)."
   ]
  },
  {
   "cell_type": "code",
   "execution_count": 9,
   "id": "a7053fbb",
   "metadata": {},
   "outputs": [
    {
     "name": "stdout",
     "output_type": "stream",
     "text": [
      "[[1 2 3]\n",
      " [4 5 6]\n",
      " [7 8 9]]\n",
      "\n",
      "[[2. 2. 2.]\n",
      " [2. 2. 2.]\n",
      " [2. 2. 2.]]\n"
     ]
    }
   ],
   "source": [
    "B = np.arange(1, 10).reshape(3, 3)\n",
    "C = np.ones((3, 3))*2\n",
    "\n",
    "print(B)\n",
    "print()\n",
    "print(C)"
   ]
  },
  {
   "cell_type": "code",
   "execution_count": null,
   "id": "f37cd3a7-9e30-437b-a5bc-a8d56f5bf0a7",
   "metadata": {},
   "outputs": [],
   "source": []
  },
  {
   "cell_type": "code",
   "execution_count": 15,
   "id": "3cd794ae",
   "metadata": {},
   "outputs": [
    {
     "name": "stdout",
     "output_type": "stream",
     "text": [
      "Elementwise Sub B-C:\n",
      "[[-1.  0.  1.]\n",
      " [ 2.  3.  4.]\n",
      " [ 5.  6.  7.]]\n",
      "Elementwise mul B*C:\n",
      "[[ 2.  4.  6.]\n",
      " [ 8. 10. 12.]\n",
      " [14. 16. 18.]]\n",
      "Matrix mul B@C:\n",
      "[[12. 12. 12.]\n",
      " [30. 30. 30.]\n",
      " [48. 48. 48.]]\n"
     ]
    }
   ],
   "source": [
    "print(f\"Elementwise Sub B-C:\\n{B - C}\")\n",
    "print(f\"Elementwise mul B*C:\\n{B * C}\")\n",
    "print(f\"Matrix mul B@C:\\n{B @ C}\")"
   ]
  },
  {
   "cell_type": "markdown",
   "id": "96030d53",
   "metadata": {},
   "source": [
    "### Do the following calculations on the matrix:\n",
    "* Exponentiate each number elementwise (use the np.exp function).\n",
    "\n",
    "* Calculate the minimum value in the whole matrix. \n",
    "* Calculcate the minimum value in each row. \n",
    "* Calculcate the minimum value in each column. \n",
    "\n",
    "\n",
    "* Find the index value for the minimum value in the whole matrix (hint: use np.argmin).\n",
    "* Find the index value for the minimum value in each row (hint: use np.argmin).\n",
    "\n",
    "\n",
    "* Calculate the sum for all elements.\n",
    "* Calculate the mean for each column. \n",
    "* Calculate the median for each column. "
   ]
  },
  {
   "cell_type": "code",
   "execution_count": 16,
   "id": "f8a9166b",
   "metadata": {},
   "outputs": [
    {
     "name": "stdout",
     "output_type": "stream",
     "text": [
      "[[1 2 3]\n",
      " [4 5 6]\n",
      " [7 8 9]]\n"
     ]
    }
   ],
   "source": [
    "B = np.arange(1, 10).reshape(3, 3)\n",
    "print(B)"
   ]
  },
  {
   "cell_type": "code",
   "execution_count": 25,
   "id": "f03f24f7",
   "metadata": {},
   "outputs": [
    {
     "name": "stdout",
     "output_type": "stream",
     "text": [
      "Exponentiated matrix (np.exp(B)): \n",
      " [[2.71828183e+00 7.38905610e+00 2.00855369e+01]\n",
      " [5.45981500e+01 1.48413159e+02 4.03428793e+02]\n",
      " [1.09663316e+03 2.98095799e+03 8.10308393e+03]]\n",
      "\n",
      "Minimum value in the matrix: \n",
      " 1\n",
      "\n",
      "Minimum value in each row: \n",
      " [1 4 7]\n",
      "\n",
      "Minimum value in each column:\n",
      " [1 2 3]\n",
      "\n",
      "Index of minimum value in the matrix:\n",
      " 0\n",
      "\n",
      "Index of minimum value in each row:\n",
      " [0 0 0]\n",
      "\n",
      "Sum of all elements in the matrix: \n",
      " 45 \n",
      "\n",
      "Mean of each column:\n",
      " [4. 5. 6.]\n",
      "\n",
      "Median of each column:\n",
      " [4. 5. 6.]\n",
      "\n"
     ]
    }
   ],
   "source": [
    "# Exponentiate each number elementwise\n",
    "print(f\"Exponentiated matrix (np.exp(B)): \\n {np.exp(B)}\\n\")\n",
    "print(f\"Minimum value in the matrix: \\n {np.min(B)}\\n\")\n",
    "print(f\"Minimum value in each row: \\n {(np.min(B, axis=1))}\\n\")\n",
    "print(f\"Minimum value in each column:\\n {(np.min(B, axis=0))}\\n\")\n",
    "print(f\"Index of minimum value in the matrix:\\n {(np.argmin(B))}\\n\")\n",
    "print(f\"Index of minimum value in each row:\\n {(np.argmin(B, axis=1))}\\n\")\n",
    "print(f\"Sum of all elements in the matrix: \\n {np.sum(B)} \\n\")\n",
    "print(f\"Mean of each column:\\n {(np.mean(B, axis=0))}\\n\")\n",
    "print(f\"Median of each column:\\n {(np.median(B, axis=0))}\\n\")\n",
    "\n"
   ]
  },
  {
   "cell_type": "markdown",
   "id": "541eb7ba",
   "metadata": {},
   "source": [
    "### What does it mean when you provide fewer indices than axes when slicing? See example below."
   ]
  },
  {
   "cell_type": "code",
   "execution_count": null,
   "id": "9c8abf56",
   "metadata": {},
   "outputs": [],
   "source": [
    "print(A)"
   ]
  },
  {
   "cell_type": "code",
   "execution_count": null,
   "id": "69415f7b",
   "metadata": {},
   "outputs": [],
   "source": [
    "A[1]"
   ]
  },
  {
   "cell_type": "markdown",
   "id": "6c53541b",
   "metadata": {},
   "source": [
    "**Answer:**"
   ]
  },
  {
   "cell_type": "code",
   "execution_count": null,
   "id": "de01e120",
   "metadata": {},
   "outputs": [],
   "source": [
    "A[1] returns second row, 2D array of shape(x,y) not a single value."
   ]
  },
  {
   "cell_type": "markdown",
   "id": "6652d0c9",
   "metadata": {},
   "source": [
    "### Iterating over multidimensional arrays is done with respect to the first axis, so in the example below we iterate trough the rows. If you would like to iterate through the array *elementwise*, how would you do that?\n"
   ]
  },
  {
   "cell_type": "code",
   "execution_count": 45,
   "id": "9459864f",
   "metadata": {},
   "outputs": [
    {
     "name": "stdout",
     "output_type": "stream",
     "text": [
      "[[ 0  1  2  3  4  5  6]\n",
      " [ 7  8  9 10 11 12 13]\n",
      " [14 15 16 17 18 19 20]]\n"
     ]
    }
   ],
   "source": [
    "A=np.arange(0, 21).reshape(3, 7)\n",
    "print(A)"
   ]
  },
  {
   "cell_type": "code",
   "execution_count": 42,
   "id": "a671bb5a",
   "metadata": {},
   "outputs": [
    {
     "name": "stdout",
     "output_type": "stream",
     "text": [
      "[0 1 2 3 4 5 6]\n",
      "[ 7  8  9 10 11 12 13]\n",
      "[14 15 16 17 18 19 20]\n"
     ]
    }
   ],
   "source": [
    "for i in A:\n",
    "    print(i)"
   ]
  },
  {
   "cell_type": "code",
   "execution_count": 43,
   "id": "f4e443a0",
   "metadata": {},
   "outputs": [
    {
     "name": "stdout",
     "output_type": "stream",
     "text": [
      "0\n",
      "1\n",
      "2\n",
      "3\n",
      "4\n",
      "5\n",
      "6\n",
      "7\n",
      "8\n",
      "9\n",
      "10\n",
      "11\n",
      "12\n",
      "13\n",
      "14\n",
      "15\n",
      "16\n",
      "17\n",
      "18\n",
      "19\n",
      "20\n"
     ]
    }
   ],
   "source": [
    "for i in A.flat:\n",
    "    print(i)"
   ]
  },
  {
   "cell_type": "markdown",
   "id": "608a2583",
   "metadata": {},
   "source": [
    "### Explain what the code below does. More specifically, b has three axes - what does this mean? "
   ]
  },
  {
   "cell_type": "code",
   "execution_count": 48,
   "id": "f8f9b26f",
   "metadata": {},
   "outputs": [
    {
     "name": "stdout",
     "output_type": "stream",
     "text": [
      "[ 0  1  2  3  4  5  6  7  8  9 10 11 12 13 14 15 16 17 18 19 20 21 22 23\n",
      " 24 25 26 27 28 29]\n",
      "\n",
      "[[[ 0  1  2  3  4]\n",
      "  [ 5  6  7  8  9]\n",
      "  [10 11 12 13 14]]\n",
      "\n",
      " [[15 16 17 18 19]\n",
      "  [20 21 22 23 24]\n",
      "  [25 26 27 28 29]]]\n"
     ]
    }
   ],
   "source": [
    "a = np.arange(30) # Creates a 1D array\n",
    "b = a.reshape((2, 3, -1)) #Reshapes the 1D array into a 3D array with shape (2, 3, 30/2*3).\n",
    "print(a)\n",
    "print()\n",
    "\n",
    "print(b)\n",
    "# creates 2 blocks where 3 rows with 5 columns in each row"
   ]
  },
  {
   "cell_type": "markdown",
   "id": "421c9607-819a-401d-949a-97424436fe29",
   "metadata": {},
   "source": [
    "# For the exercises below, read the document *\"matematik_yh_antonio_vektorer_matriser_utdrag\"*\n",
    "# Solutions to the exercises and recorded videos can be found here: https://github.com/AntonioPrgomet/matematik_foer_yh\n",
    "\n",
    "# If you find the exercises below very hard, do not worry. Try your best, that will be enough. "
   ]
  },
  {
   "cell_type": "markdown",
   "id": "ab5933d5",
   "metadata": {},
   "source": [
    "### Broadcasting\n",
    "**Read the following link about broadcasting: https://numpy.org/doc/stable/user/basics.broadcasting.html#basics-broadcasting**"
   ]
  },
  {
   "cell_type": "markdown",
   "id": "039805ba",
   "metadata": {},
   "source": [
    "# Remark on Broadcasting when doing Linear Algebra calculations in Python. "
   ]
  },
  {
   "cell_type": "markdown",
   "id": "c4bcc147",
   "metadata": {},
   "source": [
    "### From the mathematical rules of matrix addition, the operation below (m1 + m2) does not make sense. The reason is that matrix addition requires two matrices of the same size. In Python however, it works due to broadcasting rules in NumPy. So you must be careful when doing Linear Algebra calculations in Python since they do not follow the \"mathematical rules\". This can however easily be handled by doing some simple programming, for example validating that two matrices have the same shape is easy if you for instance want to add two matrices. "
   ]
  },
  {
   "cell_type": "code",
   "execution_count": 49,
   "id": "1fd46778",
   "metadata": {},
   "outputs": [
    {
     "name": "stdout",
     "output_type": "stream",
     "text": [
      "[[2 3]\n",
      " [4 5]]\n"
     ]
    }
   ],
   "source": [
    "m1 = np.array([[1, 2], [3, 4]])\n",
    "m2 = np.array([1, 1])\n",
    "print(m1 + m2)\n",
    "# So it behaves like adding [1, 1] to every row."
   ]
  },
  {
   "cell_type": "markdown",
   "id": "047d6576",
   "metadata": {},
   "source": [
    "### The example below would also not be allowed if following the \"mathematical rules\" in Linear Algebra. But it works due to broadcasting in NumPy. "
   ]
  },
  {
   "cell_type": "code",
   "execution_count": 50,
   "id": "5e6ef2e4",
   "metadata": {},
   "outputs": [
    {
     "name": "stdout",
     "output_type": "stream",
     "text": [
      "[2 3 4]\n"
     ]
    }
   ],
   "source": [
    "v1 = np.array([1, 2, 3])\n",
    "print(v1 + 1)\n",
    "#uses broadcasting it adds 1 to each element of v1.\n"
   ]
  },
  {
   "cell_type": "code",
   "execution_count": 51,
   "id": "e2cbae26",
   "metadata": {},
   "outputs": [
    {
     "name": "stdout",
     "output_type": "stream",
     "text": [
      "[[1 2]\n",
      " [3 4]]\n",
      "[2 2]\n"
     ]
    }
   ],
   "source": [
    "A = np.arange(1, 5).reshape(2,2)\n",
    "print(A)\n",
    "#creates an array [1, 2, 3, 4] and then reshaped into a 2×2 matrix\n",
    "\n",
    "b = np.array([2, 2])\n",
    "print(b)\n",
    "creates a 1D array (a vector)"
   ]
  },
  {
   "cell_type": "markdown",
   "id": "722fd5cd",
   "metadata": {},
   "source": [
    "# Vector- and matrix algebra Exercises"
   ]
  },
  {
   "cell_type": "markdown",
   "id": "b63a3081-d976-4d9f-bfd0-a63917e79f7d",
   "metadata": {},
   "source": [
    "**Now you are going to create a function that can be reused every time you add or multiply matrices. The function is created so that we do the addition and multiplication according to the rules of vector- and matrix algebra.**\n",
    "\n",
    "**Create a function \"add_mult_matrices\" that takes two matrices as input arguments (validate that the input are of the type numpy.ndarray by using the isinstance function), a third argument that is either 'add' or 'multiply' that specifies if you want to add or multiply the matrices (validate that the third argument is either 'add' or 'multiply'). When doing matrix addition, validate that the matrices have the same size. When doing matrix multiplication, validate that the sizes conform (i.e. number of columns in the first matrix is equal to the number of rows in the second matrix).**"
   ]
  },
  {
   "cell_type": "code",
   "execution_count": 69,
   "id": "3506f977-ac0a-473f-85bc-eec9f35dc498",
   "metadata": {},
   "outputs": [
    {
     "name": "stdout",
     "output_type": "stream",
     "text": [
      "[[3 5 7]]\n",
      "[[20]]\n"
     ]
    }
   ],
   "source": [
    "def add_mult_matrx(m1, m2, operation):\n",
    "     if not isinstance(m1, np.ndarray) or not isinstance(m2, np.ndarray):\n",
    "        raise TypeError(\"One or both matrxis not Numpy array.\")\n",
    "\n",
    "     if operation not in ['add', 'multiply']:\n",
    "        raise ValueError(\"wrong operation\")\n",
    "\n",
    "     if operation == 'add':\n",
    "        if m1.shape != m2.shape:\n",
    "            raise ValueError(\"not the same shape.\")\n",
    "        return m1 + m2\n",
    "\n",
    "     elif operation == 'multiply':\n",
    "        if m1.shape[1] != m2.shape[0]:\n",
    "            raise ValueError(\"not the same number of columns and rows\")\n",
    "        return m1 @ m2\n",
    "\n",
    "\n",
    "v1 = np.array([1, 2, 3, 4, 5])\n",
    "v2 = v1[1:4]  # [2, 3, 4]\n",
    "\n",
    "result = add_mult_matrx(v1[0:3].reshape(1, 3), v2.reshape(1, 3), 'add')\n",
    "print(result)\n",
    "\n",
    "A = v1[0:3].reshape(1, 3)\n",
    "B = v2.reshape(3, 1)\n",
    "\n",
    "result = add_mult_matrx(A, B, 'multiply')\n",
    "print(result)"
   ]
  },
  {
   "cell_type": "markdown",
   "id": "8dad82d0-2359-4dff-8f5b-a57d3e34103c",
   "metadata": {},
   "source": [
    "### Solve all the exercises in chapter 10.1 in the book \"Matematik för yrkeshögskolan\". "
   ]
  },
  {
   "cell_type": "code",
   "execution_count": 98,
   "id": "89df88af-3668-4d98-a0a4-e6d92eea0f89",
   "metadata": {},
   "outputs": [
    {
     "name": "stdout",
     "output_type": "stream",
     "text": [
      "exercises in chapter 10.1\n",
      "[3 4] \n",
      "\n",
      "1 - (2,) \n",
      "\n",
      "[15 20] \n",
      "\n",
      "[ 9 12] \n",
      "\n",
      "[24 32] \n",
      "\n",
      "[24 32] \n",
      "\n",
      "exercises in chapter 10.1.2\n",
      "[[ 3]\n",
      " [ 7]\n",
      " [ 0]\n",
      " [11]] \n",
      "\n",
      "2 - (4, 1) \n",
      "\n",
      "[[15]\n",
      " [35]\n",
      " [ 0]\n",
      " [55]] \n",
      "\n",
      "[[ 6]\n",
      " [14]\n",
      " [ 0]\n",
      " [22]] \n",
      "\n",
      "[[21]\n",
      " [49]\n",
      " [ 0]\n",
      " [77]] \n",
      "\n",
      "[[18]\n",
      " [42]\n",
      " [ 0]\n",
      " [66]] \n",
      "\n",
      "[[ 3  7  0 11]]\n",
      "2 - (1, 4) \n",
      "\n",
      "exercises in chapter 10.1.3 \n",
      "\n",
      "7.14142842854285 \n",
      "\n",
      "3.872983346207417 \n",
      "\n",
      "4.47213595499958 \n",
      "\n"
     ]
    }
   ],
   "source": [
    "print(\"exercises in chapter 10.1\")\n",
    "x = np.array([3, 4])\n",
    "print(x,\"\\n\")\n",
    "print(x.ndim,\"-\", x.shape,\"\\n\")\n",
    "print(5 * x,\"\\n\")\n",
    "print(3 * x,\"\\n\")\n",
    "print((5 * x)+(3 * x),\"\\n\")\n",
    "print(8 * x,\"\\n\")\n",
    "\n",
    "print(\"exercises in chapter 10.1.2\")\n",
    "v = np.array([3, 7, 0, 11]).reshape(4, 1)\n",
    "print(v, \"\\n\")\n",
    "print(v.ndim,\"-\", v.shape, \"\\n\")\n",
    "print(5*v, \"\\n\")\n",
    "print(2*v, \"\\n\")\n",
    "print(5*v+2*v, \"\\n\")\n",
    "print(4*v+2*v, \"\\n\")\n",
    "v_T = v.T\n",
    "print(v_T)\n",
    "print(v_T.ndim,\"-\", v_T.shape, \"\\n\")\n",
    "\n",
    "print(\"exercises in chapter 10.1.3\", \"\\n\")\n",
    "v1 = np.array([4, 3, 1, 5]).reshape(1, 4)\n",
    "v2 = np.array([2, 3, 1, 1]).reshape(1, 4)\n",
    "print(np.linalg.norm(v1), \"\\n\")\n",
    "print(np.linalg.norm(v2), \"\\n\")\n",
    "print(np.linalg.norm(v1 - v2), \"\\n\")\n"
   ]
  },
  {
   "cell_type": "markdown",
   "id": "75c98984-1f88-4df1-b850-d2466de444a5",
   "metadata": {},
   "source": [
    "### Solve all the exercises, except 10.2.4, in chapter 10.2 in the book \"Matematik för yrkeshögskolan\". \n"
   ]
  },
  {
   "cell_type": "code",
   "execution_count": 135,
   "id": "65371610-16e1-48b2-b7fb-65e49002608a",
   "metadata": {},
   "outputs": [
    {
     "name": "stdout",
     "output_type": "stream",
     "text": [
      "exercises in chapter 10.2.1 \n",
      "\n",
      "[[ 2  1 -1]\n",
      " [ 1 -1  1]] \n",
      "\n",
      "[[ 4 -2  1]\n",
      " [ 2 -4 -2]] \n",
      "\n",
      "[[1 2]\n",
      " [2 1]] \n",
      "\n",
      "[[3 4]\n",
      " [4 3]] \n",
      "\n",
      "[[2]\n",
      " [1]] \n",
      "\n",
      "[[1 0]\n",
      " [0 1]] \n",
      "\n",
      "ex\n",
      "a: \n",
      " [[ 4  2 -2]\n",
      " [ 2 -2  2]] \n",
      "\n",
      "b: \n",
      " [[ 0 -4  3]\n",
      " [ 0 -2 -4]] \n",
      "\n",
      "c: \n",
      " [[-1  2]\n",
      " [ 4  1]] \n",
      "\n",
      "d: \n",
      " [[3 2]\n",
      " [2 3]] \n",
      "\n",
      "e: \n",
      " [[ 9 12]\n",
      " [12  9]] \n",
      "\n",
      "f: \n",
      " [[ 8 12]\n",
      " [12  8]] \n",
      "\n",
      "g: \n",
      " A.T - B    rätt bli   [[-2 -1]\n",
      " [ 3  3]\n",
      " [-2  3]] \n",
      "\n",
      "h: \n",
      " A @ C  rätt bli  [[ 4  5]\n",
      " [-1  1]\n",
      " [ 1 -1]] \n",
      "\n",
      "i: \n",
      " [[11 10]\n",
      " [10 11]] \n",
      "\n",
      "j: \n",
      " [[  8 -10  -3]\n",
      " [ 10  -8   0]] \n",
      "\n",
      "k: \n",
      " [[1 2]\n",
      " [2 1]] \n",
      "\n",
      "l: \n",
      " [[ 8  2]\n",
      " [-2  4]\n",
      " [-1 -2]] \n",
      "\n",
      "exercises in chapter 10.2.2 \n",
      "\n",
      "i: \n",
      " [[29 26]\n",
      " [26 42]] \n",
      "\n",
      "exercises in chapter 10.2.3 \n",
      "\n",
      "[[1 2]\n",
      " [2 4]] \n",
      "\n",
      "[[2 1]\n",
      " [1 3]] \n",
      "\n",
      "[[4 3]\n",
      " [0 2]] \n",
      "\n",
      "True\n",
      "True\n"
     ]
    }
   ],
   "source": [
    "print(\"exercises in chapter 10.2.1\", \"\\n\")\n",
    "A = np.array([2, 1, -1, 1,-1, 1]).reshape(2, 3)\n",
    "B = np.array([4, -2, 1, 2,-4,-2]).reshape(2, 3)\n",
    "C = np.array([1, 2, 2, 1]).reshape(2, 2)\n",
    "D = np.array([3, 4, 4, 3]).reshape(2, 2)\n",
    "E = np.array([2, 1]).reshape(2, 1)\n",
    "I = np.array([1, 0, 0, 1]).reshape(2, 2)\n",
    "print(A, \"\\n\")\n",
    "print(B, \"\\n\")\n",
    "print(C, \"\\n\")\n",
    "print(D, \"\\n\")\n",
    "print(E, \"\\n\")\n",
    "print(I, \"\\n\")\n",
    "\n",
    "print(\"ex\")\n",
    "print(\"a: \\n\", 2*A,\"\\n\")\n",
    "print(\"b: \\n\", B-2*A,\"\\n\")\n",
    "print(\"c: \\n\", 3*C-2*E,\"\\n\")\n",
    "print(\"d: \\n\", 2*D-3*C,\"\\n\")\n",
    "print(\"e: \\n\", D.T + 2 * D, \"\\n\")\n",
    "print(\"f: \\n\", 2*C.T + 2*D.T, \"\\n\")\n",
    "print(\"g: \\n\", \"A.T - B \",\"  rätt bli  \", A.T - B.T, \"\\n\")\n",
    "print(\"h: \\n\", \"A @ C \",  \"rätt bli \",  A.T @ C, \"\\n\")\n",
    "print(\"i: \\n\", C @ D, \"\\n\")\n",
    "print(\"j: \\n\", C @ B, \"\\n\")\n",
    "print(\"k: \\n\", C @ I, \"\\n\")\n",
    "print(\"l: \\n\", A.T * B.T, \"\\n\")\n",
    "\n",
    "\n",
    "print(\"exercises in chapter 10.2.2\", \"\\n\")\n",
    "A = np.array([2, 3, 4, 5, 4, 1]).reshape(2, 3)\n",
    "print(\"i: \\n\", A @ A.T, \"\\n\")\n",
    "\n",
    "print(\"exercises in chapter 10.2.3\", \"\\n\")\n",
    "A = np.array([1, 2, 2, 4]).reshape(2, 2)\n",
    "B = np.array([2, 1, 1, 3]).reshape(2, 2)\n",
    "C = np.array([4, 3, 0, 2]).reshape(2, 2)\n",
    "\n",
    "print(A, \"\\n\")\n",
    "print(B, \"\\n\")\n",
    "print(C, \"\\n\")\n",
    "res1 = np.array_equal(A @ B, A @ C)\n",
    "res2 = not np.array_equal(B, C)\n",
    "print(res1)\n",
    "print(res2)\n",
    "      \n"
   ]
  },
  {
   "cell_type": "markdown",
   "id": "6a4a524f",
   "metadata": {},
   "source": [
    "### Copies and Views\n",
    "Read the following link: https://numpy.org/doc/stable/user/basics.copies.html"
   ]
  },
  {
   "cell_type": "markdown",
   "id": "6cbbeaf7",
   "metadata": {},
   "source": [
    "**Basic indexing creates a view, How can you check if v1 and v2 is a view or copy? If you change the last element in v2 to 123, will the last element in v1 be changed? Why?**"
   ]
  },
  {
   "cell_type": "code",
   "execution_count": 162,
   "id": "5b9ef4df",
   "metadata": {},
   "outputs": [
    {
     "name": "stdout",
     "output_type": "stream",
     "text": [
      "[0 1 2 3]\n",
      "[2 3]\n"
     ]
    }
   ],
   "source": [
    "v1 = np.arange(4)\n",
    "v2 = v1[-2:]\n",
    "print(v1)\n",
    "print(v2)\n",
    "\n"
   ]
  },
  {
   "cell_type": "code",
   "execution_count": 163,
   "id": "d2440489",
   "metadata": {},
   "outputs": [
    {
     "name": "stdout",
     "output_type": "stream",
     "text": [
      "None\n",
      "[0 1 2 3]\n"
     ]
    }
   ],
   "source": [
    "# The base attribute of a view returns the original array while it returns None for a copy.\n",
    "print(v1.base)\n",
    "print(v2.base)"
   ]
  },
  {
   "cell_type": "code",
   "execution_count": 164,
   "id": "c8752807",
   "metadata": {},
   "outputs": [
    {
     "name": "stdout",
     "output_type": "stream",
     "text": [
      "[  0   1   2 123]\n",
      "[  2 123]\n"
     ]
    }
   ],
   "source": [
    "# The last element in v1 will be changed aswell since v2 is a view, meaning they share the same data buffer.\n",
    "v2[-1] = 123\n",
    "print(v1)\n",
    "print(v2)"
   ]
  },
  {
   "cell_type": "code",
   "execution_count": 165,
   "id": "3dd68221",
   "metadata": {},
   "outputs": [
    {
     "name": "stdout",
     "output_type": "stream",
     "text": [
      "True\n"
     ]
    }
   ],
   "source": [
    "print(np.shares_memory(v1, v2))\n"
   ]
  },
  {
   "cell_type": "code",
   "execution_count": 152,
   "id": "ea5f5731-7144-48e9-8929-1752bd36d0c3",
   "metadata": {},
   "outputs": [],
   "source": [
    "#No because they share memory\n",
    "# v2 = v1[-2:].copy() creates an independent copy"
   ]
  },
  {
   "cell_type": "code",
   "execution_count": null,
   "id": "0e9f994d-d18c-4cc2-b4f3-3983f6f736da",
   "metadata": {},
   "outputs": [],
   "source": []
  }
 ],
 "metadata": {
  "kernelspec": {
   "display_name": "Python 3 (ipykernel)",
   "language": "python",
   "name": "python3"
  },
  "language_info": {
   "codemirror_mode": {
    "name": "ipython",
    "version": 3
   },
   "file_extension": ".py",
   "mimetype": "text/x-python",
   "name": "python",
   "nbconvert_exporter": "python",
   "pygments_lexer": "ipython3",
   "version": "3.13.2"
  }
 },
 "nbformat": 4,
 "nbformat_minor": 5
}
